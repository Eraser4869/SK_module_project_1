{
 "cells": [
  {
   "cell_type": "markdown",
   "id": "5ff37b36",
   "metadata": {},
   "source": []
  },
  {
   "cell_type": "code",
   "execution_count": null,
   "id": "10263ca6",
   "metadata": {},
   "outputs": [
    {
     "name": "stdout",
     "output_type": "stream",
     "text": [
      "Note: you may need to restart the kernel to use updated packages.\n"
     ]
    },
    {
     "name": "stderr",
     "output_type": "stream",
     "text": [
      "ERROR: Could not find a version that satisfies the requirement opencv (from versions: none)\n",
      "ERROR: No matching distribution found for opencv\n"
     ]
    }
   ],
   "source": []
  },
  {
   "cell_type": "code",
   "execution_count": 3,
   "id": "9de70b58",
   "metadata": {},
   "outputs": [
    {
     "ename": "ModuleNotFoundError",
     "evalue": "No module named 'ultralytics'",
     "output_type": "error",
     "traceback": [
      "\u001b[1;31m---------------------------------------------------------------------------\u001b[0m",
      "\u001b[1;31mModuleNotFoundError\u001b[0m                       Traceback (most recent call last)",
      "Cell \u001b[1;32mIn[3], line 3\u001b[0m\n\u001b[0;32m      1\u001b[0m \u001b[38;5;28;01mimport\u001b[39;00m\u001b[38;5;250m \u001b[39m\u001b[38;5;21;01mjson\u001b[39;00m\n\u001b[0;32m      2\u001b[0m \u001b[38;5;28;01mfrom\u001b[39;00m\u001b[38;5;250m \u001b[39m\u001b[38;5;21;01mtyping\u001b[39;00m\u001b[38;5;250m \u001b[39m\u001b[38;5;28;01mimport\u001b[39;00m Dict, List\n\u001b[1;32m----> 3\u001b[0m \u001b[38;5;28;01mfrom\u001b[39;00m\u001b[38;5;250m \u001b[39m\u001b[38;5;21;01multralytics\u001b[39;00m\u001b[38;5;250m \u001b[39m\u001b[38;5;28;01mimport\u001b[39;00m YOLO\n\u001b[0;32m      4\u001b[0m \u001b[38;5;28;01mfrom\u001b[39;00m\u001b[38;5;250m \u001b[39m\u001b[38;5;21;01mcollections\u001b[39;00m\u001b[38;5;250m \u001b[39m\u001b[38;5;28;01mimport\u001b[39;00m Counter\n",
      "\u001b[1;31mModuleNotFoundError\u001b[0m: No module named 'ultralytics'"
     ]
    }
   ],
   "source": [
    "import json\n",
    "from typing import Dict, List\n",
    "from ultralytics import YOLO\n",
    "from collections import Counter"
   ]
  },
  {
   "cell_type": "code",
   "execution_count": null,
   "id": "1d8e0dd8",
   "metadata": {},
   "outputs": [],
   "source": [
    "import json # JSON 형식으로 데이터를 직렬화하기 위해 사용\n",
    "from ultralytics import YOLO # YOLOv8 모델을 불러오기 위한 라이브러리\n",
    "from typing import List, Dict, Union # 타입 힌트를 위한 모듈\n",
    "\n",
    "class IngredientDetector:\n",
    "    ''' \n",
    "    생성자\n",
    "    model_path: str = 모델 파일 경로, 문자열 타입 명시\n",
    "    '''\n",
    "    def __init__(self, model_path: str):\n",
    "        self.model = YOLO(model_path) # YOLO 모델을 로드\n",
    "        self.class_names = self.model.names  # 클래스 ID와 이름 매핑 딕셔너리 (예: {0: 'egg', 1: 'tomato'})\n",
    "\n",
    "    # 식재료 분류 메서드\n",
    "    def classify_ingredients(self, image_paths: Union[str, List[str]]) -> List[Dict[str, int]]:\n",
    "        \"\"\"\n",
    "        image_path: 하나 이상의 이미지 경로를 받음\n",
    "        union[str, List[str]]: 문자열 하나 또는 문자열 리스트를 허용\n",
    "        반환값: [{'tomato': 2, 'egg': 1}, {'onion': 3}, ...] 등 각 이미지마다 감지된 식재료 이름과 개수를 담은 딕셔너리 리스트\n",
    "\n",
    "        \"\"\"\n",
    "        if isinstance(image_paths, str):\n",
    "            # 단일 문자열이면 리스트로 변환하여 일관된 처리\n",
    "            image_paths = [image_paths]\n",
    "        # 모델을 통한 분류 실행\n",
    "        results = self.model(image_paths)\n",
    "        # 모든 이미지의 감지 결과를 저장할 리스트\n",
    "        all_counts = []\n",
    "\n",
    "        # 각 이미지에 대한 결과 반복\n",
    "        for result in results:\n",
    "            counts = {} # 현재 이미지의 식재료 개수를 저장하는 리스트\n",
    "            for box in result.boxes:    # 감지된 객체들 반복\n",
    "                cls_id = int(box.cls)   # 클래스ID를 정수로 변환(0.0 --> 0 등)\n",
    "                label = self.class_names[cls_id]    # 클래스 ID를 이름으로 변환(1 --> 사과 등)\n",
    "                counts[label] = counts.get(label, 0) + 1    # 개수 누적\n",
    "            all_counts.append(counts)   # 현재 이미지 겨로가를 전체 리스트에 추가\n",
    "\n",
    "        return all_counts\n",
    "    #JSON 변환 메서드\n",
    "    def to_json(self, image_paths: Union[str, List[str]]) -> str:\n",
    "        \"\"\"\n",
    "        classify_ingredients 결과를 JSON 형식으로 반환\n",
    "        반환값: JSON 문자열\n",
    "        \"\"\"\n",
    "        all_counts = self.classify_ingredients(image_paths) # 감지 결과 가져오기 \n",
    "        return json.dumps({\"results\": all_counts}, ensure_ascii=False, indent=2)    # 한글은 없지만 한글이 안깨지게 설정. 들여쓰기까지(가독성)\n"
   ]
  },
  {
   "cell_type": "code",
   "execution_count": null,
   "id": "0fc2dffa",
   "metadata": {},
   "outputs": [],
   "source": []
  },
  {
   "cell_type": "code",
   "execution_count": null,
   "id": "aa8081e0",
   "metadata": {},
   "outputs": [],
   "source": []
  },
  {
   "cell_type": "code",
   "execution_count": null,
   "id": "1c0599ef",
   "metadata": {},
   "outputs": [],
   "source": []
  },
  {
   "cell_type": "code",
   "execution_count": null,
   "id": "4a8a8612",
   "metadata": {},
   "outputs": [],
   "source": []
  }
 ],
 "metadata": {
  "kernelspec": {
   "display_name": ".venv",
   "language": "python",
   "name": "python3"
  },
  "language_info": {
   "codemirror_mode": {
    "name": "ipython",
    "version": 3
   },
   "file_extension": ".py",
   "mimetype": "text/x-python",
   "name": "python",
   "nbconvert_exporter": "python",
   "pygments_lexer": "ipython3",
   "version": "3.9.13"
  }
 },
 "nbformat": 4,
 "nbformat_minor": 5
}
